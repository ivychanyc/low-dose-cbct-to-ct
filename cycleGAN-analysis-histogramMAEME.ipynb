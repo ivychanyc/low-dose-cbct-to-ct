{
 "cells": [
  {
   "cell_type": "code",
   "execution_count": 1,
   "metadata": {},
   "outputs": [],
   "source": [
    "import glob\n",
    "import logging\n",
    "import tempfile\n",
    "import PIL\n",
    "import torch\n",
    "import torch.nn as nn\n",
    "import matplotlib.pyplot as plt\n",
    "import shutil\n",
    "import sys\n",
    "import logging\n",
    "import tempfile\n",
    "import os\n",
    "import torch\n",
    "from PIL import Image\n",
    "import torchvision\n",
    "import time\n",
    "import SimpleITK as sitk\n",
    "from scipy import ndimage\n",
    "import numpy as np\n",
    "from PIL import Image, ImageOps"
   ]
  },
  {
   "cell_type": "code",
   "execution_count": 6,
   "metadata": {},
   "outputs": [
    {
     "data": {
      "text/plain": [
       "-14.617191976500523"
      ]
     },
     "execution_count": 6,
     "metadata": {},
     "output_type": "execute_result"
    }
   ],
   "source": [
    "np.mean(Mean_ME_Cor_train)"
   ]
  },
  {
   "cell_type": "code",
   "execution_count": 7,
   "metadata": {},
   "outputs": [
    {
     "data": {
      "text/plain": [
       "106.76554343611585"
      ]
     },
     "execution_count": 7,
     "metadata": {},
     "output_type": "execute_result"
    }
   ],
   "source": [
    "np.mean(Mean_MAE_Cor_train)"
   ]
  },
  {
   "cell_type": "code",
   "execution_count": 8,
   "metadata": {},
   "outputs": [
    {
     "data": {
      "text/plain": [
       "12.837394107619746"
      ]
     },
     "execution_count": 8,
     "metadata": {},
     "output_type": "execute_result"
    }
   ],
   "source": [
    "np.mean(Mean_ME_Cor_train_ori)"
   ]
  },
  {
   "cell_type": "code",
   "execution_count": 9,
   "metadata": {},
   "outputs": [
    {
     "data": {
      "text/plain": [
       "134.67356397376997"
      ]
     },
     "execution_count": 9,
     "metadata": {},
     "output_type": "execute_result"
    }
   ],
   "source": [
    "np.mean(Mean_MAE_Cor_train_ori)"
   ]
  },
  {
   "cell_type": "code",
   "execution_count": 10,
   "metadata": {},
   "outputs": [
    {
     "data": {
      "image/png": "[encoded data removed]",
      "text/plain": [
       "<Figure size 1080x360 with 2 Axes>"
      ]
     },
     "metadata": {
      "needs_background": "light"
     },
     "output_type": "display_data"
    }
   ],
   "source": [
    "# Plot\n",
    "n_test_patients=image_cycleGAN_mu_per_patient_sorted.shape[0]\n",
    "plt.figure(counter_epoch,(15,5))\n",
    "plt.subplot(1,2,1)\n",
    "plt.title(f\"Mean Error of \")\n",
    "barlist_ME=plt.bar(np.arange(Mean_ME_Cor_train.size),Mean_ME_Cor_train)\n",
    "for b in range(n_test_patients):\n",
    "    barlist_ME[b].set_color('b')  #test data cor-cycleGAN\n",
    "# for c in range(n_test_patients):\n",
    "#     barlist_ME[c+n_test_patients].set_color('g')  #test data cor-cycleGAN\n",
    "\n",
    "plt.subplot(1,2,2)\n",
    "plt.title(f\"Mean Absolute Error of \")\n",
    "barlist_MAE=plt.bar(np.arange(Mean_MAE_Cor_train.size),Mean_MAE_Cor_train)\n",
    "for b in range(n_test_patients):\n",
    "    barlist_MAE[b].set_color('b')  #test data or-ori\n",
    "# for c in range(n_test_patients):\n",
    "#     barlist_MAE[c+n_test_patients].set_color('g') #test data cor-ori\n",
    "plt.show()"
   ]
  },
  {
   "cell_type": "code",
   "execution_count": 5,
   "metadata": {},
   "outputs": [
    {
     "data": {
      "image/png": "[encoded data removed]",
      "text/plain": [
       "<Figure size 1080x360 with 2 Axes>"
      ]
     },
     "metadata": {
      "needs_background": "light"
     },
     "output_type": "display_data"
    }
   ],
   "source": [
    "# Plot\n",
    "n_test_patients=image_cycleGAN_mu_per_patient_sorted.shape[0]\n",
    "plt.figure(counter_epoch,(15,5))\n",
    "plt.subplot(1,2,1)\n",
    "plt.title(f\"Mean Error of \")\n",
    "barlist_ME=plt.bar(np.arange(Mean_ME_Cor_train_ori.size),Mean_ME_Cor_train_ori)\n",
    "for b in range(n_test_patients):\n",
    "    barlist_ME[b].set_color('b')  #test data cor-cycleGAN\n",
    "# for c in range(n_test_patients):\n",
    "#     barlist_ME[c+n_test_patients].set_color('g')  #test data cor-cycleGAN\n",
    "\n",
    "plt.subplot(1,2,2)\n",
    "plt.title(f\"Mean Absolute Error of \")\n",
    "barlist_MAE=plt.bar(np.arange(Mean_MAE_Cor_train_ori.size),Mean_MAE_Cor_train_ori)\n",
    "for b in range(n_test_patients):\n",
    "    barlist_MAE[b].set_color('b')  #test data or-ori\n",
    "# for c in range(n_test_patients):\n",
    "#     barlist_MAE[c+n_test_patients].set_color('g') #test data cor-ori\n",
    "plt.show()"
   ]
  },
  {
   "cell_type": "code",
   "execution_count": 12,
   "metadata": {},
   "outputs": [
    {
     "data": {
      "text/plain": [
       "-12.892095947166366"
      ]
     },
     "execution_count": 12,
     "metadata": {},
     "output_type": "execute_result"
    }
   ],
   "source": [
    "np.mean(Mean_ME_Cor_validation)"
   ]
  },
  {
   "cell_type": "code",
   "execution_count": 20,
   "metadata": {},
   "outputs": [
    {
     "data": {
      "text/plain": [
       "102.8323719397636"
      ]
     },
     "execution_count": 20,
     "metadata": {},
     "output_type": "execute_result"
    }
   ],
   "source": [
    "np.mean(Mean_MAE_Cor_validation)"
   ]
  },
  {
   "cell_type": "code",
   "execution_count": 13,
   "metadata": {},
   "outputs": [
    {
     "data": {
      "text/plain": [
       "-1046.2406889560436"
      ]
     },
     "execution_count": 13,
     "metadata": {},
     "output_type": "execute_result"
    }
   ],
   "source": [
    "np.mean(Mean_ME_Cor_Ori_validation )"
   ]
  },
  {
   "cell_type": "code",
   "execution_count": 22,
   "metadata": {},
   "outputs": [
    {
     "data": {
      "text/plain": [
       "130.75221758797937"
      ]
     },
     "execution_count": 22,
     "metadata": {},
     "output_type": "execute_result"
    }
   ],
   "source": [
    "np.mean(Mean_MAE_Cor_Ori_validation )"
   ]
  },
  {
   "cell_type": "code",
   "execution_count": 15,
   "metadata": {},
   "outputs": [
    {
     "data": {
      "text/plain": [
       "-11.270619753904516"
      ]
     },
     "execution_count": 15,
     "metadata": {},
     "output_type": "execute_result"
    }
   ],
   "source": [
    "np.mean(Mean_ME_Cor_test)"
   ]
  },
  {
   "cell_type": "code",
   "execution_count": 16,
   "metadata": {},
   "outputs": [
    {
     "data": {
      "text/plain": [
       "110.34219375201658"
      ]
     },
     "execution_count": 16,
     "metadata": {},
     "output_type": "execute_result"
    }
   ],
   "source": [
    "np.mean(Mean_MAE_Cor_test)"
   ]
  },
  {
   "cell_type": "code",
   "execution_count": 17,
   "metadata": {},
   "outputs": [
    {
     "data": {
      "text/plain": [
       "9.952925420422316"
      ]
     },
     "execution_count": 17,
     "metadata": {},
     "output_type": "execute_result"
    }
   ],
   "source": [
    "np.mean(Mean_ME_Cor_Ori_test)"
   ]
  },
  {
   "cell_type": "code",
   "execution_count": 18,
   "metadata": {},
   "outputs": [
    {
     "data": {
      "text/plain": [
       "137.29160409715269"
      ]
     },
     "execution_count": 18,
     "metadata": {},
     "output_type": "execute_result"
    }
   ],
   "source": [
    "np.mean(Mean_MAE_Cor_Ori_test)"
   ]
  },
  {
   "cell_type": "code",
   "execution_count": 23,
   "metadata": {},
   "outputs": [
    {
     "data": {
      "image/png": "[encoded data removed]",
      "text/plain": [
       "<Figure size 1080x360 with 2 Axes>"
      ]
     },
     "metadata": {
      "needs_background": "light"
     },
     "output_type": "display_data"
    }
   ],
   "source": [
    "# Plot\n",
    "ME=[]\n",
    "MAE=[]\n",
    "ME=[0]\n",
    "MAE=[0]\n",
    "ME=np.append(ME, Mean_ME_Cor_train)\n",
    "ME=np.append(ME,Mean_ME_Cor_validation)\n",
    "ME=np.append(ME,Mean_ME_Cor_test)\n",
    "MAE=np.append(MAE,Mean_MAE_Cor_train)\n",
    "MAE=np.append(MAE,Mean_MAE_Cor_validation)\n",
    "MAE=np.append(MAE,Mean_MAE_Cor_test)\n",
    "n_train_patients=30\n",
    "n_val_patients=3\n",
    "n_test_patients=8\n",
    "plt.figure(counter_epoch,(15,5))\n",
    "\n",
    "plt.subplot(1,2,1)\n",
    "plt.title(f\"Mean Error of \")\n",
    "\n",
    "barlist_ME=plt.bar(np.arange(ME.size),ME, align='edge', width=0.5)\n",
    "for b in range(n_train_patients):\n",
    "    barlist_ME[1+b].set_color('b')  #train\n",
    "for c in range(n_val_patients):\n",
    "    barlist_ME[1+c+n_train_patients].set_color('r')  #validation\n",
    "for d in range(n_test_patients):\n",
    "    barlist_ME[1+d+n_train_patients+n_val_patients].set_color('g')  #test\n",
    "    \n",
    "locs, labels = plt.xticks()  # Get the current locations and labels.\n",
    "plt.xticks(np.arange(1, 42, step=1), rotation=90)  # Set label locations.\n",
    "# plt.title('ME CBCT$_{\\mathrm{cor}}$ - CBCT$_{\\mathrm{LD}}$_$_{gan}$', fontsize=22)\n",
    "plt.title('ME CBCT$_{\\mathrm{LD}}$_$_{gan}$ - CBCT$_{\\mathrm{cor}}$ ', fontsize=22)\n",
    "plt.xlabel('Patient Number', fontsize=15)\n",
    "plt.ylabel('ME in HU', fontsize=15)\n",
    "plt.ylim(-30,30)\n",
    "plt.plot([0, 42], [0, 0], 'k-', lw=1)\n",
    "    \n",
    "\n",
    "plt.subplot(1,2,2)\n",
    "plt.title(f\"Mean Absolute Error of \")\n",
    "barlist_MAE=plt.bar(np.arange(MAE.size),MAE, align='edge', width=0.5)\n",
    "for b in range(n_train_patients):\n",
    "    barlist_MAE[1+b].set_color('b')  #train\n",
    "for c in range(n_val_patients):\n",
    "    barlist_MAE[1+c+n_train_patients].set_color('r')  #validation\n",
    "for d in range(n_test_patients):\n",
    "    barlist_MAE[1+d+n_train_patients+n_val_patients].set_color('g')  #test\n",
    "\n",
    "locs, labels = plt.xticks()  # Get the current locations and labels.\n",
    "plt.xticks(np.arange(1, 42, step=1), rotation=90)  # Set label locations.\n",
    "# plt.title('MAE CBCT$_{\\mathrm{cor}}$ - CBCT$_{\\mathrm{LD}}$_$_{gan}$', fontsize=22)\n",
    "plt.title('MAE CBCT$_{\\mathrm{LD}}$_$_{gan}$ - CBCT$_{\\mathrm{cor}}$', fontsize=22)\n",
    "plt.xlabel('Patient Number', fontsize=15)\n",
    "plt.ylabel('MAE in HU', fontsize=15)\n",
    "plt.ylim(0,160)\n",
    "\n",
    "plt.show()"
   ]
  },
  {
   "cell_type": "code",
   "execution_count": 26,
   "metadata": {},
   "outputs": [
    {
     "data": {
      "image/png": "[encoded data removed]",
      "text/plain": [
       "<Figure size 1080x360 with 2 Axes>"
      ]
     },
     "metadata": {
      "needs_background": "light"
     },
     "output_type": "display_data"
    }
   ],
   "source": [
    "# Plot\n",
    "ME=[]\n",
    "MAE=[]\n",
    "ME=[0]\n",
    "MAE=[0]\n",
    "ME=np.append(ME, Mean_ME_Cor_train_ori)\n",
    "ME=np.append(ME,Mean_ME_Cor_Ori_validation)\n",
    "ME=np.append(ME,Mean_ME_Cor_Ori_test)\n",
    "MAE=np.append(MAE,Mean_MAE_Cor_train_ori)\n",
    "MAE=np.append(MAE,Mean_MAE_Cor_Ori_validation)\n",
    "MAE=np.append(MAE,Mean_MAE_Cor_Ori_test)\n",
    "n_train_patients=30\n",
    "n_val_patients=3\n",
    "n_test_patients=8\n",
    "plt.figure(counter_epoch,(15,5))\n",
    "\n",
    "plt.subplot(1,2,1)\n",
    "plt.title(f\"Mean Error of \")\n",
    "\n",
    "barlist_ME=plt.bar(np.arange(ME.size),ME, align='edge', width=0.5)\n",
    "for b in range(n_train_patients):\n",
    "    barlist_ME[1+b].set_color('b')  #train\n",
    "for c in range(n_val_patients):\n",
    "    barlist_ME[1+c+n_train_patients].set_color('r')  #validation\n",
    "for d in range(n_test_patients):\n",
    "    barlist_ME[1+d+n_train_patients+n_val_patients].set_color('g')  #test\n",
    "    \n",
    "locs, labels = plt.xticks()  # Get the current locations and labels.\n",
    "plt.xticks(np.arange(1, 42, step=1), rotation=90)  # Set label locations.\n",
    "# plt.title('ME CBCT$_{\\mathrm{cor}}$ - CBCT$_{\\mathrm{LD}}$', fontsize=22)\n",
    "plt.title('ME CBCT$_{\\mathrm{LD}}$ - CBCT$_{\\mathrm{cor}}$', fontsize=22)\n",
    "plt.xlabel('Patient Number', fontsize=15)\n",
    "plt.ylabel('ME in HU', fontsize=15)\n",
    "plt.ylim(-30,30)\n",
    "plt.plot([0, 42], [0, 0], 'k-', lw=1)\n",
    "    \n",
    "\n",
    "plt.subplot(1,2,2)\n",
    "plt.title(f\"Mean Absolute Error of \")\n",
    "barlist_MAE=plt.bar(np.arange(MAE.size),MAE, align='edge', width=0.5)\n",
    "for b in range(n_train_patients):\n",
    "    barlist_MAE[1+b].set_color('b')  #train\n",
    "for c in range(n_val_patients):\n",
    "    barlist_MAE[1+c+n_train_patients].set_color('r')  #validation\n",
    "for d in range(n_test_patients):\n",
    "    barlist_MAE[1+d+n_train_patients+n_val_patients].set_color('g')  #test\n",
    "\n",
    "locs, labels = plt.xticks()  # Get the current locations and labels.\n",
    "plt.xticks(np.arange(1, 42, step=1), rotation=90)  # Set label locations.\n",
    "# plt.title('MAE CBCT$_{\\mathrm{cor}}$ - CBCT$_{\\mathrm{LD}}$', fontsize=22)\n",
    "plt.title('MAE CBCT$_{\\mathrm{LD}}$ - CBCT$_{\\mathrm{cor}}$ ', fontsize=22)\n",
    "plt.xlabel('Patient Number', fontsize=15)\n",
    "plt.ylabel('MAE in HU', fontsize=15)\n",
    "plt.ylim(0,160)\n",
    "\n",
    "plt.show()"
   ]
  }
 ],
 "metadata": {
  "kernelspec": {
   "display_name": "Python 3",
   "language": "python",
   "name": "python3"
  },
  "language_info": {
   "codemirror_mode": {
    "name": "ipython",
    "version": 3
   },
   "file_extension": ".py",
   "mimetype": "text/x-python",
   "name": "python",
   "nbconvert_exporter": "python",
   "pygments_lexer": "ipython3",
   "version": "3.8.10"
  }
 },
 "nbformat": 4,
 "nbformat_minor": 4
}
